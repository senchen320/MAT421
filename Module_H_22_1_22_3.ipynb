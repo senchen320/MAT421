{
  "nbformat": 4,
  "nbformat_minor": 0,
  "metadata": {
    "colab": {
      "provenance": [],
      "authorship_tag": "ABX9TyN6NrefPXQ0bM+InXjKODNh",
      "include_colab_link": true
    },
    "kernelspec": {
      "name": "python3",
      "display_name": "Python 3"
    },
    "language_info": {
      "name": "python"
    }
  },
  "cells": [
    {
      "cell_type": "markdown",
      "metadata": {
        "id": "view-in-github",
        "colab_type": "text"
      },
      "source": [
        "<a href=\"https://colab.research.google.com/github/senchen320/MAT421/blob/main/Module_H_22_1_22_3.ipynb\" target=\"_parent\"><img src=\"https://colab.research.google.com/assets/colab-badge.svg\" alt=\"Open In Colab\"/></a>"
      ]
    },
    {
      "cell_type": "markdown",
      "source": [
        "Question 1"
      ],
      "metadata": {
        "id": "E5Kv5KNMNyz1"
      }
    },
    {
      "cell_type": "code",
      "execution_count": 1,
      "metadata": {
        "colab": {
          "base_uri": "https://localhost:8080/",
          "height": 130
        },
        "id": "qDGLY8-uNxnB",
        "outputId": "ee55fa77-d0c4-4918-bc3e-a5963ea657d6"
      },
      "outputs": [
        {
          "output_type": "error",
          "ename": "SyntaxError",
          "evalue": "ignored",
          "traceback": [
            "\u001b[0;36m  File \u001b[0;32m\"<ipython-input-1-31abcb60f927>\"\u001b[0;36m, line \u001b[0;32m1\u001b[0m\n\u001b[0;31m    The following is the required Python script with the required function completed:\u001b[0m\n\u001b[0m        ^\u001b[0m\n\u001b[0;31mSyntaxError\u001b[0m\u001b[0;31m:\u001b[0m invalid syntax\n"
          ]
        }
      ],
      "source": [
        "The following is the required Python script with the required function completed:\n",
        "# Importing numpy for array manipulation\n",
        "import numpy as np\n",
        "# Importing scipy for solving initial value problem\n",
        "from scipy.integrate import solve_ivp\n",
        "# Importing matplotlib for ploting curves\n",
        "import matplotlib.pyplot as plt\n",
        "# Importing functools's partial for creating handle\n",
        "from functools import partial\n",
        "plt.style.use(\"seaborn-poster\")\n",
        "def my_logistic_eq(t, P, r, K):\n",
        "# Given function crafted in python syntax\n",
        "dP =r*P* (1 - P/K)\n",
        "return dP"
      ]
    },
    {
      "cell_type": "code",
      "source": [
        "# Test 1\n",
        "dP = my_logistic_eq(0, 10, 1.1, 15)\n",
        "print(dP)\n",
        "# Test 2: Plotting\n",
        "to = 0\n",
        "%3D\n",
        "tf = 20\n",
        "PO = 10\n",
        "r = 1.1\n",
        "K = 20\n",
        "t = np.linspace(0, 20, 2001)\n",
        "f = partial(my_logistic_eq, r=r, K=K)\n",
        "sol = solve_ivp(f, [t0, tf), [PO],\n",
        "t_eval=t)\n",
        "plt.figure(figsize=(10, 8))\n",
        "plt.plot(sol.t, sol.y[0])\n",
        "plt.plot(t,\n",
        "K* PO * np.exp(r * t) / (K + PO * (np.exp(r * t) - 1)),\n",
        "\"r.\")\n",
        "plt.xlabel(\"time\")\n",
        "plt.ylabel(\"population\")\n",
        "plt.legend([\"Numerical Solution\", \"Exact Solution\")\n",
        "plt.grid(True)\n",
        "plt.show()\n"
      ],
      "metadata": {
        "colab": {
          "base_uri": "https://localhost:8080/",
          "height": 130
        },
        "id": "v19jQauoOJ3Z",
        "outputId": "95177841-9384-4ee0-ef50-c6fb3d5bcbd4"
      },
      "execution_count": 2,
      "outputs": [
        {
          "output_type": "error",
          "ename": "SyntaxError",
          "evalue": "ignored",
          "traceback": [
            "\u001b[0;36m  File \u001b[0;32m\"<ipython-input-2-01b1a411d9ce>\"\u001b[0;36m, line \u001b[0;32m13\u001b[0m\n\u001b[0;31m    sol = solve_ivp(f, [t0, tf), [PO],\u001b[0m\n\u001b[0m                              ^\u001b[0m\n\u001b[0;31mSyntaxError\u001b[0m\u001b[0;31m:\u001b[0m closing parenthesis ')' does not match opening parenthesis '['\n"
          ]
        }
      ]
    },
    {
      "cell_type": "markdown",
      "source": [
        "Question 2"
      ],
      "metadata": {
        "id": "BihnR9K-ON-t"
      }
    },
    {
      "cell_type": "code",
      "source": [
        "The following is the required Python script with the required function completed:\n",
        "# Importing numpy library for array manipulation functions\n",
        "import numpy as np\n",
        "# Function to form the system of differential equations of a Lorentz attracter\n",
        "def my_lorenz(t, S, sigma, rho, beta):\n",
        "if (sigma < 0) or (rho < 0) or (rho < 0):\n",
        "raise BaseException(\"Error: Sigma, rho and beta needs all to be non-negative!\")\n",
        "dS = np.zeros(3)\n",
        "ds[0] = sigma * ( S[2] - S[1] )\n",
        "%3D\n",
        "dS[1] = S[0] * ( rho - S[2] ) - S[1]\n",
        "dS[2] = S[0] * S[1] - beta * S[2];\n",
        "return ds"
      ],
      "metadata": {
        "colab": {
          "base_uri": "https://localhost:8080/",
          "height": 130
        },
        "id": "wWeuI41qOPon",
        "outputId": "e9686639-733a-4166-b2b6-084e0690386b"
      },
      "execution_count": 3,
      "outputs": [
        {
          "output_type": "error",
          "ename": "SyntaxError",
          "evalue": "ignored",
          "traceback": [
            "\u001b[0;36m  File \u001b[0;32m\"<ipython-input-3-d89a40f6b39f>\"\u001b[0;36m, line \u001b[0;32m1\u001b[0m\n\u001b[0;31m    The following is the required Python script with the required function completed:\u001b[0m\n\u001b[0m        ^\u001b[0m\n\u001b[0;31mSyntaxError\u001b[0m\u001b[0;31m:\u001b[0m invalid syntax\n"
          ]
        }
      ]
    },
    {
      "cell_type": "code",
      "source": [
        "# Test\n",
        "S = np.array([1, 2, 3])\n",
        "dS = my_lorenz(0, s, 10, 28, 8/3)\n",
        "print(dS)"
      ],
      "metadata": {
        "colab": {
          "base_uri": "https://localhost:8080/",
          "height": 217
        },
        "id": "7htwvK4OOTR9",
        "outputId": "03daa4a2-1c20-4971-e859-a860d8e892a6"
      },
      "execution_count": 4,
      "outputs": [
        {
          "output_type": "error",
          "ename": "NameError",
          "evalue": "ignored",
          "traceback": [
            "\u001b[0;31m---------------------------------------------------------------------------\u001b[0m",
            "\u001b[0;31mNameError\u001b[0m                                 Traceback (most recent call last)",
            "\u001b[0;32m<ipython-input-4-fe85861bbf23>\u001b[0m in \u001b[0;36m<cell line: 2>\u001b[0;34m()\u001b[0m\n\u001b[1;32m      1\u001b[0m \u001b[0;31m# Test\u001b[0m\u001b[0;34m\u001b[0m\u001b[0;34m\u001b[0m\u001b[0m\n\u001b[0;32m----> 2\u001b[0;31m \u001b[0mS\u001b[0m \u001b[0;34m=\u001b[0m \u001b[0mnp\u001b[0m\u001b[0;34m.\u001b[0m\u001b[0marray\u001b[0m\u001b[0;34m(\u001b[0m\u001b[0;34m[\u001b[0m\u001b[0;36m1\u001b[0m\u001b[0;34m,\u001b[0m \u001b[0;36m2\u001b[0m\u001b[0;34m,\u001b[0m \u001b[0;36m3\u001b[0m\u001b[0;34m]\u001b[0m\u001b[0;34m)\u001b[0m\u001b[0;34m\u001b[0m\u001b[0;34m\u001b[0m\u001b[0m\n\u001b[0m\u001b[1;32m      3\u001b[0m \u001b[0mdS\u001b[0m \u001b[0;34m=\u001b[0m \u001b[0mmy_lorenz\u001b[0m\u001b[0;34m(\u001b[0m\u001b[0;36m0\u001b[0m\u001b[0;34m,\u001b[0m \u001b[0ms\u001b[0m\u001b[0;34m,\u001b[0m \u001b[0;36m10\u001b[0m\u001b[0;34m,\u001b[0m \u001b[0;36m28\u001b[0m\u001b[0;34m,\u001b[0m \u001b[0;36m8\u001b[0m\u001b[0;34m/\u001b[0m\u001b[0;36m3\u001b[0m\u001b[0;34m)\u001b[0m\u001b[0;34m\u001b[0m\u001b[0;34m\u001b[0m\u001b[0m\n\u001b[1;32m      4\u001b[0m \u001b[0mprint\u001b[0m\u001b[0;34m(\u001b[0m\u001b[0mdS\u001b[0m\u001b[0;34m)\u001b[0m\u001b[0;34m\u001b[0m\u001b[0;34m\u001b[0m\u001b[0m\n",
            "\u001b[0;31mNameError\u001b[0m: name 'np' is not defined"
          ]
        }
      ]
    },
    {
      "cell_type": "markdown",
      "source": [
        "Question 3"
      ],
      "metadata": {
        "id": "HXFgP7WGOVg4"
      }
    },
    {
      "cell_type": "code",
      "source": [
        "The following is the required Python script with the required function:\n",
        "# Importing numpy for array manipulation\n",
        "import numpy as np\n",
        "# Importing scipy integrate initial value problem\n",
        "from scipy.integrate import solve_ivp\n",
        "# Importing matplotlib pyplot to plot curves\n",
        "import matplotlib.pyplot as plt\n",
        "# Function to solve lorenz function for a time span\n",
        "def my_lorenz_solver(t_span, s0, sigma, rho, beta):\n",
        "s = np.array([1, 2, 3])\n",
        "#3\n",
        "Function to generate a system of ordinary differential equations\n",
        "# for lorentz attracter\n",
        "# t- scalar denoting time\n",
        "# S-3 x 1 array denoting the position (x, y, z)\n",
        "# sigma - Velocity / thermal diffusivity.\n",
        "# rho - Rayleigh number\n",
        "# beta - Geometric factor.\n",
        "# dS - 3x1 array - change in the input coordinates\n",
        "def my_lorenz(t, S, sigma, beta, rho):\n",
        "х, у, z %3DS\n",
        "dx =\n",
        "sigma * (y - x)\n",
        "dy = x* (rho - z) - y\n",
        "dz = x * y - beta * z\n",
        "dS = [dx, dy, dz]\n",
        "%3D\n",
        "return dS\n",
        "dS = my_lorenz(0, s, 10, 28, 8/3)\n",
        "from functools import partial\n",
        "to = t_span[0]\n",
        "tf = t_span[1]\n",
        "t = np.linspace(t0, tf, 20001)\n",
        "f = partial(my_lorenz, sigma=sigma, rho=rho, beta=Dbeta)\n",
        "sol = solve_ivp(f, t_span, s0, t_ eval=t)\n",
        "T, X, Y, Z = sol.t, sol.y[0, :], sol.y[1, :), sol.y[2, :]\n",
        "return [T, X, Y, z]"
      ],
      "metadata": {
        "colab": {
          "base_uri": "https://localhost:8080/",
          "height": 130
        },
        "id": "nrkhT27OOWny",
        "outputId": "e9b1367a-0654-4ddd-f6fa-9e587e3afcaa"
      },
      "execution_count": 5,
      "outputs": [
        {
          "output_type": "error",
          "ename": "SyntaxError",
          "evalue": "ignored",
          "traceback": [
            "\u001b[0;36m  File \u001b[0;32m\"<ipython-input-5-aa3814783687>\"\u001b[0;36m, line \u001b[0;32m1\u001b[0m\n\u001b[0;31m    The following is the required Python script with the required function:\u001b[0m\n\u001b[0m        ^\u001b[0m\n\u001b[0;31mSyntaxError\u001b[0m\u001b[0;31m:\u001b[0m invalid syntax\n"
          ]
        }
      ]
    },
    {
      "cell_type": "code",
      "source": [
        "# Test code\n",
        "sigma\n",
        "= 10\n",
        "rho = 28\n",
        "beta = 8/3\n",
        "t0 = 0\n",
        "tf = 50\n",
        "s0 = np.array([0, 1, 1.05])\n",
        "[T, X, Y, Z] = my_lorenz_solver([t0, tf], s0, sigma, rho, beta)\n",
        "fig = plt.figure(figsize=(10, 10))\n",
        "ax = plt.axes(projection=\"3d\")\n",
        "ax.grid()\n",
        "ax.plot3D(X, Y, Z)\n",
        "# Set axes label\n",
        "ax.set_xlabel(\"x\", labelpad=20)\n",
        "ax.set_ylabel(\"y\", labelpad=20)\n",
        "ax.set_zlabel(\"z\", labelpad320)\n",
        "plt.show()"
      ],
      "metadata": {
        "colab": {
          "base_uri": "https://localhost:8080/",
          "height": 130
        },
        "id": "byGArxZvOb66",
        "outputId": "dfbc8baf-7b1a-42ed-f923-3ae53054d3c8"
      },
      "execution_count": 6,
      "outputs": [
        {
          "output_type": "error",
          "ename": "SyntaxError",
          "evalue": "ignored",
          "traceback": [
            "\u001b[0;36m  File \u001b[0;32m\"<ipython-input-6-903b8823198a>\"\u001b[0;36m, line \u001b[0;32m3\u001b[0m\n\u001b[0;31m    = 10\u001b[0m\n\u001b[0m    ^\u001b[0m\n\u001b[0;31mSyntaxError\u001b[0m\u001b[0;31m:\u001b[0m invalid syntax\n"
          ]
        }
      ]
    }
  ]
}