{
  "nbformat": 4,
  "nbformat_minor": 0,
  "metadata": {
    "colab": {
      "provenance": [],
      "authorship_tag": "ABX9TyPEyxiJVLr8+iCNcnqyn5gp",
      "include_colab_link": true
    },
    "kernelspec": {
      "name": "python3",
      "display_name": "Python 3"
    },
    "language_info": {
      "name": "python"
    }
  },
  "cells": [
    {
      "cell_type": "markdown",
      "metadata": {
        "id": "view-in-github",
        "colab_type": "text"
      },
      "source": [
        "<a href=\"https://colab.research.google.com/github/senchen320/MAT421/blob/main/Module_B2.ipynb\" target=\"_parent\"><img src=\"https://colab.research.google.com/assets/colab-badge.svg\" alt=\"Open In Colab\"/></a>"
      ]
    },
    {
      "cell_type": "code",
      "execution_count": 1,
      "metadata": {
        "colab": {
          "base_uri": "https://localhost:8080/",
          "height": 130
        },
        "id": "3dBTtFdDwqPw",
        "outputId": "246248e0-f4ea-4a4f-ec82-9bdb44d7c7d8"
      },
      "outputs": [
        {
          "output_type": "error",
          "ename": "IndentationError",
          "evalue": "ignored",
          "traceback": [
            "\u001b[0;36m  File \u001b[0;32m\"<ipython-input-1-67a123cbaa99>\"\u001b[0;36m, line \u001b[0;32m6\u001b[0m\n\u001b[0;31m    Y=0\u001b[0m\n\u001b[0m    ^\u001b[0m\n\u001b[0;31mIndentationError\u001b[0m\u001b[0;31m:\u001b[0m expected an indented block\n"
          ]
        }
      ],
      "source": [
        "#question 9\n",
        "##############################################\n",
        "import numpy as np\n",
        "import matplotlib.pyplot as plt\n",
        "def my_lagrange(x,y,X):\n",
        "Y=0\n",
        "for i in range(len(x)):\n",
        "P=1\n",
        "for j in range(len(x)):\n",
        "if i != j:\n",
        "Px=X-x[j]#Px is an array with 101 elements\n",
        "#print(X)\n",
        "Dx=x[i]-x[i]\n",
        "#print(Dx)\n",
        "P=P*Px/Dx\n",
        "#print(f\"X{X}:Y{Y}\")\n",
        "Y=y[i]*P+Y\n",
        "return Y\n",
        "#from scipy import interpolate\n",
        "x=[0,1,2,3,4]\n",
        "y=[2,1,3,5,1]\n",
        "X=np.linspace(0,4,101)\n",
        "#print(len(X))\n",
        "plt.figure(figsize=(10,8))\n",
        "plt.plot(X,my_lagrange(x,y,X),\"b\",label=\"interpolation\")\n",
        "plt.plot(x,y,\"ro\",label=\"data points\")\n",
        "plt.xlabel(\"X\")\n",
        "plt.ylabel(\"Y\")\n",
        "plt.title(\"Lagrange Interpolation of Data points\")\n",
        "plt.legend()\n",
        "plt.show()\n",
        "\n",
        "#question 10\n",
        "##############################################\n",
        "import numpy as np\n",
        "import matplotlib.pyplot as plt\n",
        "def divided_diff(x,y):\n",
        "n=len(y)\n",
        "coef=np.zeros([n,n])\n",
        "coef[:,0]=y\n",
        "for j in range(1,n):\n",
        "for i in range(n-j\n",
        "coefi]]=(coef[i+1][j-1]-coef[i][j-1])/(x[i+j]-x[i])\n",
        "return coef\n",
        "def newton_poly(coef,x_data,x):\n",
        "n=len(x_data)-1\n",
        "p=coef[n]\n",
        "for k in range(1,n+1):\n",
        "p=coef[n-k]+(x-x_data[n-k])*p\n",
        "return p\n",
        "x=[0,1,2,3,4]\n",
        "y=[2,1,3,5,1]\n",
        "#x=[-5,-1,0,2]\n",
        "#y=[-2,6,1,3]\n",
        "a_s=divided_diff(x,y)[0,:]\n",
        "x_new=np.arange(0,5,0.1)\n",
        "#x_new=np.arange(-5,2.1,0.1)\n",
        "y_new=newton_poly(a_s,x,x_new)#np.array(x))\n",
        "plt.figure(figsize=(12,8))\n",
        "plt.plot(x,y,\"ro\",label=\"data\")\n",
        "plt.plot(x_new,y_new,\"b\",label=\"interpolation\")\n",
        "plt.xlabel(\"X\")\n",
        "plt.ylabel(\"Y\")\n",
        "plt.title(\"Newtonsdivided difference Interpolation of Data points\")\n",
        "plt.legend()\n",
        "plt.show()"
      ]
    }
  ]
}