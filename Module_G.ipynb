{
  "nbformat": 4,
  "nbformat_minor": 0,
  "metadata": {
    "colab": {
      "provenance": [],
      "authorship_tag": "ABX9TyNclagaFhWZq6uuRGn6ux6d",
      "include_colab_link": true
    },
    "kernelspec": {
      "name": "python3",
      "display_name": "Python 3"
    },
    "language_info": {
      "name": "python"
    }
  },
  "cells": [
    {
      "cell_type": "markdown",
      "metadata": {
        "id": "view-in-github",
        "colab_type": "text"
      },
      "source": [
        "<a href=\"https://colab.research.google.com/github/senchen320/MAT421/blob/main/Module_G.ipynb\" target=\"_parent\"><img src=\"https://colab.research.google.com/assets/colab-badge.svg\" alt=\"Open In Colab\"/></a>"
      ]
    },
    {
      "cell_type": "markdown",
      "source": [
        "Question 1"
      ],
      "metadata": {
        "id": "6_iBVKlOJl1x"
      }
    },
    {
      "cell_type": "code",
      "execution_count": 1,
      "metadata": {
        "colab": {
          "base_uri": "https://localhost:8080/",
          "height": 130
        },
        "id": "moPxtFGOJYU5",
        "outputId": "5e2ec695-ab66-45e3-ed8a-af1ff76b8061"
      },
      "outputs": [
        {
          "output_type": "error",
          "ename": "SyntaxError",
          "evalue": "ignored",
          "traceback": [
            "\u001b[0;36m  File \u001b[0;32m\"<ipython-input-1-ad14e885b6de>\"\u001b[0;36m, line \u001b[0;32m1\u001b[0m\n\u001b[0;31m    The following is the required Python script with the required function completed:\u001b[0m\n\u001b[0m        ^\u001b[0m\n\u001b[0;31mSyntaxError\u001b[0m\u001b[0;31m:\u001b[0m invalid syntax\n"
          ]
        }
      ],
      "source": [
        "The following is the required Python script with the required function completed:\n",
        "# Importing numpy for array manipulation\n",
        "import numpy as np\n",
        "# Importing scipy for solving initial value problem\n",
        "from scipy.integrate import solve_ivp\n",
        "# Importing matplotlib for ploting curves\n",
        "import matplotlib.pyplot as plt\n",
        "# Importing functoos's partial for creating handle\n",
        "from functools import partial\n",
        "plt.style.use(\"seaborn-poster\")\n",
        "def my_logistic_eq(t, P, r, K):\n",
        "# Given function crafted in python syntax\n",
        "dP = r*P* (1 -P/K)\n",
        "return dP"
      ]
    },
    {
      "cell_type": "code",
      "source": [
        "# Test 1\n",
        "dP = my_logistic_eq(0, 10, 1.1, 15)\n",
        "print(dP)"
      ],
      "metadata": {
        "id": "jyibQBRCJ6UQ"
      },
      "execution_count": null,
      "outputs": []
    },
    {
      "cell_type": "code",
      "source": [
        "# Test 2: Plotting\n",
        "t0 = 0\n",
        "tf = 20\n",
        "P0 = 10\n",
        "r = 1.1\n",
        "K = 20\n",
        "t = np.linspace(0, 20, 2001)\n",
        "f = partial(my_logistic_eq, r=r, K=K)\n",
        "sol = solve_ivp(f, [t0, tf), [PO],\n",
        "t_eval=t)\n",
        "plt.figure(figsize3(10, 8))\n",
        "plt.plot(sol.t; sol.y[0])\n",
        "plt.plot(t,\n",
        "K * P0 * np.exp(r * t) / (K + P0 * (np.exp(r * t) - 1)),\n",
        "\"r:\")\n",
        "plt.xlabel(\"time\")\n",
        "plt.ylabel(\"population\")\n",
        "plt.legend([\"Numerical Solution\", \"Exact Solution\"])\n",
        "plt.grid(True)\n",
        "plt.show()"
      ],
      "metadata": {
        "id": "pNhTKdZXJ8dU"
      },
      "execution_count": null,
      "outputs": []
    },
    {
      "cell_type": "markdown",
      "source": [
        "Question 2"
      ],
      "metadata": {
        "id": "jD_lQCI3J_ov"
      }
    },
    {
      "cell_type": "code",
      "source": [
        "The following is the required Python script with the required function completed:\n",
        "# Importing numpy library for array manipulation functions\n",
        "import numpy as np\n",
        "# Function to form the system of differential equations of a Lorentz attracter\n",
        "def my_lorenz(t, S, sigma, rho, beta):\n",
        "if (sigma < 0) or (rho < 0) or (rho < 0):\n",
        "raise BaseException(\"Error: Sigma, rho and beta needs all to be non-negative!\")\n",
        "dS = np.zeros(3)\n",
        "ds[0] = sigma * ( S[2] - S[1] )\n",
        "dS[1] = S[0] * ( rho - S[2] ) - S[1]\n",
        "dS[2] = S[0] * S[1] - beta * S[2];\n",
        "return dS"
      ],
      "metadata": {
        "id": "Da1QzJmRKBOM"
      },
      "execution_count": null,
      "outputs": []
    },
    {
      "cell_type": "code",
      "source": [
        "# Test\n",
        "s = np.array([1, 2, 3])\n",
        "dS = my_lorenz(0, s, 10, 28, 8/3)\n",
        "print(dS)"
      ],
      "metadata": {
        "id": "d8CdwCclKDj0"
      },
      "execution_count": null,
      "outputs": []
    },
    {
      "cell_type": "markdown",
      "source": [
        "Question 3"
      ],
      "metadata": {
        "id": "hDBA1lt5KFdV"
      }
    },
    {
      "cell_type": "code",
      "source": [
        "The following is the required Python script with the required function completed:\n",
        "# Importing numpy library for array manipulation functions\n",
        "import numpy as np\n",
        "# Function to form the system of differential equations of a Lorentz attracter\n",
        "def my_lorenz(t, S, sigma, rho, beta):\n",
        "if (sigma < 0) or (rho < 0) or (rho < 0):\n",
        "raise BaseException(\"Error: Sigma, rho and beta needs all to be non-negative!\")\n",
        "dS = np.zeros(3)\n",
        "ds[0] = sigma * ( S[2] - S[1] )\n",
        "dS[1] = S[0] * ( rho - S[2] ) - S[1]\n",
        "dS[2] = S[0] * S[1] - beta * S[2];\n",
        "return dS"
      ],
      "metadata": {
        "colab": {
          "base_uri": "https://localhost:8080/",
          "height": 130
        },
        "id": "JLhgAyviKGxF",
        "outputId": "1b4468f1-006c-49ad-fadb-6b79bd3bea3c"
      },
      "execution_count": 2,
      "outputs": [
        {
          "output_type": "error",
          "ename": "SyntaxError",
          "evalue": "ignored",
          "traceback": [
            "\u001b[0;36m  File \u001b[0;32m\"<ipython-input-2-3ce27e98a6e3>\"\u001b[0;36m, line \u001b[0;32m1\u001b[0m\n\u001b[0;31m    The following is the required Python script with the required function completed:\u001b[0m\n\u001b[0m        ^\u001b[0m\n\u001b[0;31mSyntaxError\u001b[0m\u001b[0;31m:\u001b[0m invalid syntax\n"
          ]
        }
      ]
    },
    {
      "cell_type": "code",
      "source": [
        "# Test\n",
        "s = np.array([1, 2, 3])\n",
        "dS = my_lorenz(0, s, 10, 28, 8/3)\n",
        "print(dS)"
      ],
      "metadata": {
        "colab": {
          "base_uri": "https://localhost:8080/",
          "height": 217
        },
        "id": "NfFX6X4NKKRD",
        "outputId": "26020b8d-5ab7-42f6-fe95-1959db1656f3"
      },
      "execution_count": 3,
      "outputs": [
        {
          "output_type": "error",
          "ename": "NameError",
          "evalue": "ignored",
          "traceback": [
            "\u001b[0;31m---------------------------------------------------------------------------\u001b[0m",
            "\u001b[0;31mNameError\u001b[0m                                 Traceback (most recent call last)",
            "\u001b[0;32m<ipython-input-3-52088473501a>\u001b[0m in \u001b[0;36m<module>\u001b[0;34m\u001b[0m\n\u001b[1;32m      1\u001b[0m \u001b[0;31m# Test\u001b[0m\u001b[0;34m\u001b[0m\u001b[0;34m\u001b[0m\u001b[0m\n\u001b[0;32m----> 2\u001b[0;31m \u001b[0ms\u001b[0m \u001b[0;34m=\u001b[0m \u001b[0mnp\u001b[0m\u001b[0;34m.\u001b[0m\u001b[0marray\u001b[0m\u001b[0;34m(\u001b[0m\u001b[0;34m[\u001b[0m\u001b[0;36m1\u001b[0m\u001b[0;34m,\u001b[0m \u001b[0;36m2\u001b[0m\u001b[0;34m,\u001b[0m \u001b[0;36m3\u001b[0m\u001b[0;34m]\u001b[0m\u001b[0;34m)\u001b[0m\u001b[0;34m\u001b[0m\u001b[0;34m\u001b[0m\u001b[0m\n\u001b[0m\u001b[1;32m      3\u001b[0m \u001b[0mdS\u001b[0m \u001b[0;34m=\u001b[0m \u001b[0mmy_lorenz\u001b[0m\u001b[0;34m(\u001b[0m\u001b[0;36m0\u001b[0m\u001b[0;34m,\u001b[0m \u001b[0ms\u001b[0m\u001b[0;34m,\u001b[0m \u001b[0;36m10\u001b[0m\u001b[0;34m,\u001b[0m \u001b[0;36m28\u001b[0m\u001b[0;34m,\u001b[0m \u001b[0;36m8\u001b[0m\u001b[0;34m/\u001b[0m\u001b[0;36m3\u001b[0m\u001b[0;34m)\u001b[0m\u001b[0;34m\u001b[0m\u001b[0;34m\u001b[0m\u001b[0m\n\u001b[1;32m      4\u001b[0m \u001b[0mprint\u001b[0m\u001b[0;34m(\u001b[0m\u001b[0mdS\u001b[0m\u001b[0;34m)\u001b[0m\u001b[0;34m\u001b[0m\u001b[0;34m\u001b[0m\u001b[0m\n",
            "\u001b[0;31mNameError\u001b[0m: name 'np' is not defined"
          ]
        }
      ]
    }
  ]
}