{
  "nbformat": 4,
  "nbformat_minor": 0,
  "metadata": {
    "colab": {
      "provenance": [],
      "authorship_tag": "ABX9TyNq/Frg/y+ItdZTCVc0gZZF",
      "include_colab_link": true
    },
    "kernelspec": {
      "name": "python3",
      "display_name": "Python 3"
    },
    "language_info": {
      "name": "python"
    }
  },
  "cells": [
    {
      "cell_type": "markdown",
      "metadata": {
        "id": "view-in-github",
        "colab_type": "text"
      },
      "source": [
        "<a href=\"https://colab.research.google.com/github/senchen320/MAT421/blob/main/Module_H_22_4_22_6.ipynb\" target=\"_parent\"><img src=\"https://colab.research.google.com/assets/colab-badge.svg\" alt=\"Open In Colab\"/></a>"
      ]
    },
    {
      "cell_type": "markdown",
      "source": [
        "Question 1"
      ],
      "metadata": {
        "id": "jHKp8WUHXRgg"
      }
    },
    {
      "cell_type": "code",
      "execution_count": 1,
      "metadata": {
        "colab": {
          "base_uri": "https://localhost:8080/",
          "height": 130
        },
        "id": "1apdE7gRXJpx",
        "outputId": "60e7be4d-041d-4095-8da3-74275b62f8fb"
      },
      "outputs": [
        {
          "output_type": "error",
          "ename": "SyntaxError",
          "evalue": "ignored",
          "traceback": [
            "\u001b[0;36m  File \u001b[0;32m\"<ipython-input-1-2013b32828f7>\"\u001b[0;36m, line \u001b[0;32m1\u001b[0m\n\u001b[0;31m    The following is the required Python script with the required functioni:\u001b[0m\n\u001b[0m        ^\u001b[0m\n\u001b[0;31mSyntaxError\u001b[0m\u001b[0;31m:\u001b[0m invalid syntax\n"
          ]
        }
      ],
      "source": [
        "The following is the required Python script with the required functioni:\n",
        "# Importing numpy for array manipulation\n",
        "import numpy as np\n",
        "# Importing scipy for solving initial value problem\n",
        "from scipy.integrate import solve_ivp\n",
        "# Importing matplotlib for plotting curves\n",
        "import matplotlib.pyplot as plt\n",
        "# Importing functools's partial for creating the handle\n",
        "from functools import partial\n",
        "# Based on the given definition of mass-spring-damper\n",
        "# crafting the differential equation\n",
        "def my_msd(t, S, m, c, k):\n",
        "dS = np.dot(np.array([[0, 1], [-k / m, -c/ m]]), S)\n",
        "return dS"
      ]
    },
    {
      "cell_type": "code",
      "source": [
        "# Test 1\n",
        "dS = my_msd(0, [1, -1], 10, 1, 100)\n",
        "print(dS)"
      ],
      "metadata": {
        "colab": {
          "base_uri": "https://localhost:8080/",
          "height": 200
        },
        "id": "LIJAlnNeXaPW",
        "outputId": "d6194974-2558-4f71-c3ae-8179f08c3095"
      },
      "execution_count": 2,
      "outputs": [
        {
          "output_type": "error",
          "ename": "NameError",
          "evalue": "ignored",
          "traceback": [
            "\u001b[0;31m---------------------------------------------------------------------------\u001b[0m",
            "\u001b[0;31mNameError\u001b[0m                                 Traceback (most recent call last)",
            "\u001b[0;32m<ipython-input-2-9c3b042a59c3>\u001b[0m in \u001b[0;36m<cell line: 2>\u001b[0;34m()\u001b[0m\n\u001b[1;32m      1\u001b[0m \u001b[0;31m# Test 1\u001b[0m\u001b[0;34m\u001b[0m\u001b[0;34m\u001b[0m\u001b[0m\n\u001b[0;32m----> 2\u001b[0;31m \u001b[0mdS\u001b[0m \u001b[0;34m=\u001b[0m \u001b[0mmy_msd\u001b[0m\u001b[0;34m(\u001b[0m\u001b[0;36m0\u001b[0m\u001b[0;34m,\u001b[0m \u001b[0;34m[\u001b[0m\u001b[0;36m1\u001b[0m\u001b[0;34m,\u001b[0m \u001b[0;34m-\u001b[0m\u001b[0;36m1\u001b[0m\u001b[0;34m]\u001b[0m\u001b[0;34m,\u001b[0m \u001b[0;36m10\u001b[0m\u001b[0;34m,\u001b[0m \u001b[0;36m1\u001b[0m\u001b[0;34m,\u001b[0m \u001b[0;36m100\u001b[0m\u001b[0;34m)\u001b[0m\u001b[0;34m\u001b[0m\u001b[0;34m\u001b[0m\u001b[0m\n\u001b[0m\u001b[1;32m      3\u001b[0m \u001b[0mprint\u001b[0m\u001b[0;34m(\u001b[0m\u001b[0mdS\u001b[0m\u001b[0;34m)\u001b[0m\u001b[0;34m\u001b[0m\u001b[0;34m\u001b[0m\u001b[0m\n",
            "\u001b[0;31mNameError\u001b[0m: name 'my_msd' is not defined"
          ]
        }
      ]
    },
    {
      "cell_type": "code",
      "source": [
        "# Test 2\n",
        "m = 1\n",
        "k = 10\n",
        "f = partial(my_msd, m=m, c=0, k=k)\n",
        "t_e = np.arange(0, 20, 0.1)\n",
        "sol_1 = solve_ivp(f, [0, 20], [1, 0), t_eval=t_e)\n",
        "f = partial(my_msd, m-m, c=1, k=k)\n",
        "sol_2 = solve_ivp(f, [0, 20], [1, 0], t_eval=t_e)\n",
        "f = partial(my_msd, m=m, c=10, k=k)\n",
        "sol_3 = solve_ivp(f, [0, 20], [1, 0], t_eval=t_e)\n",
        "plt.figure(figsize%3(10, 8))\n",
        "plt.plot(sol_1.t, sol_1.y[0])\n",
        "plt.plot(sol_2.t, sol_2.y[0])\n",
        "plt.plot(sol_3.t, sol_3.y[0])\n",
        "plt.title(\"Numerical Solution of MSD System with Varying Dampling\")\n",
        "plt.xlabel(\"time\")\n",
        "plt.ylabel(\"displacement\")\n",
        "plt.legend([\"no dampling\", \"c=1\", \">critically damped\"), loc=1)\n",
        "plt.show()\n"
      ],
      "metadata": {
        "colab": {
          "base_uri": "https://localhost:8080/",
          "height": 130
        },
        "id": "yPUH09cuXcb7",
        "outputId": "00a7a696-922c-4672-ea8a-27d5d6478ccf"
      },
      "execution_count": 3,
      "outputs": [
        {
          "output_type": "error",
          "ename": "SyntaxError",
          "evalue": "ignored",
          "traceback": [
            "\u001b[0;36m  File \u001b[0;32m\"<ipython-input-3-0863363abb4b>\"\u001b[0;36m, line \u001b[0;32m6\u001b[0m\n\u001b[0;31m    sol_1 = solve_ivp(f, [0, 20], [1, 0), t_eval=t_e)\u001b[0m\n\u001b[0m                                       ^\u001b[0m\n\u001b[0;31mSyntaxError\u001b[0m\u001b[0;31m:\u001b[0m closing parenthesis ')' does not match opening parenthesis '['\n"
          ]
        }
      ]
    },
    {
      "cell_type": "markdown",
      "source": [
        "Question 2"
      ],
      "metadata": {
        "id": "I6WD3ydlXhtD"
      }
    },
    {
      "cell_type": "code",
      "source": [
        "The following is the required Python script with the required function:\n",
        "# Importing numpy for array manipulation\n",
        "import numpy as np\n",
        "# Function to integrate the differential equation ds\n",
        "# using forward euler method\n",
        "def my_forward_euler(ds, t_span, s0):\n",
        "if (len(t_span) < 2):\n",
        "raise BaseException(\"Error: span must be of length be more than 1!\")\n",
        "# Calculating steps\n",
        "h = (t_span[-1] -t_span[0]) / (len(t_span) -1)\n",
        "s = np.zeros((len(t_span)+1,1))\n",
        "s[0] ＝s0\n",
        "for i in range(0, len(t_span)):\n",
        "s[i+1] = s[i] + h * ds(t_span[i), s[i])\n",
        "t =t_span\n",
        "S = s.transpose()[0]\n",
        "return [t, s]\n",
        "t_span = np.linspace(0, 1, 10)\n",
        "s0 = 1\n",
        "# Define parameters\n",
        "f = lambda t, s: t*np.exp(-s)\n",
        "t_eul, s_eul = my_forward_euler(f, t_span, s0)\n",
        "print(t_eul)\n",
        "print(s_eul)"
      ],
      "metadata": {
        "colab": {
          "base_uri": "https://localhost:8080/",
          "height": 130
        },
        "id": "UyqOTNT2XjSH",
        "outputId": "273aedb7-f80d-4aab-ed16-660c46ad339f"
      },
      "execution_count": 4,
      "outputs": [
        {
          "output_type": "error",
          "ename": "SyntaxError",
          "evalue": "ignored",
          "traceback": [
            "\u001b[0;36m  File \u001b[0;32m\"<ipython-input-4-3a4622bbdc4f>\"\u001b[0;36m, line \u001b[0;32m1\u001b[0m\n\u001b[0;31m    The following is the required Python script with the required function:\u001b[0m\n\u001b[0m        ^\u001b[0m\n\u001b[0;31mSyntaxError\u001b[0m\u001b[0;31m:\u001b[0m invalid syntax\n"
          ]
        }
      ]
    },
    {
      "cell_type": "markdown",
      "source": [
        "Question 3"
      ],
      "metadata": {
        "id": "jTLxQgMbXpRh"
      }
    },
    {
      "cell_type": "code",
      "source": [
        "The following is the required Python script with the required function:\n",
        "import numpy as np\n",
        "import matplotlib.pyplot as plt\n",
        "from scipy.integrate import solve_ivp\n",
        "# Function to integrate differential equation using\n",
        "# fourth order Runge-Kutta method\n",
        "def myRK4(ds, t_span, s0):\n",
        "if (len(t_span) < 2):\n",
        "raise BaseException(\"Error: span must be of length be more than 1!\")\n",
        "# Calculating steps\n",
        "h = (t_span[-1] -t_span[0]) / (len(t_span) -1)\n",
        "s = np.zeros((len(t_span), 1))\n",
        "s[0] = s0\n",
        "for i in range(0, len(t_span)-1):\n",
        "k1 = ds( t_span[i], s[i] );\n",
        "# change at beginning\n",
        "# of the interval.\n",
        "k2 = ds( t_span[i) + 0.5 * h, s[i) + 0.5 * h * k1 );\n",
        "# change of (change at beginning of the\n",
        "# interval) at midpoint of the interval.\n",
        "k3 = ds( t_span[i] + 0.5 * h, s[i] + 0.5 *h * k2 );\n",
        "# change of (change of (change at\n",
        "beginning of\n",
        "# the interval) at midpoint of the interval) at midpoint #of the interval.\n",
        "k4 = ds (t_span[i] + h, s[i] + h* k3);\n",
        "# change of (change of (change of (change\n",
        "at beginning of the interval) at midpoint of the interval) at midpoint of the interval) at the end of\n",
        "the interval.\n",
        "s[i + 1] = s[i) + h/6* (k1 + 2* k2 + 2 * k3 + k4);\n",
        "t =t_span\n",
        "S = s.transpose()[0]\n",
        "return [t, s]\n",
        "f = lambda t, s: np.sin(np.exp(s))/(t+1)\n",
        "t_span = np.linspace(0, 2*np.pi, 10)\n",
        "s0 = 0\n",
        "plt.figure(figsize = (10, 8))"
      ],
      "metadata": {
        "colab": {
          "base_uri": "https://localhost:8080/",
          "height": 130
        },
        "id": "2iRUDPH5Xqfl",
        "outputId": "9d799200-0196-46de-d2ee-c9709715237a"
      },
      "execution_count": 5,
      "outputs": [
        {
          "output_type": "error",
          "ename": "SyntaxError",
          "evalue": "ignored",
          "traceback": [
            "\u001b[0;36m  File \u001b[0;32m\"<ipython-input-5-7fa66ecb14d6>\"\u001b[0;36m, line \u001b[0;32m1\u001b[0m\n\u001b[0;31m    The following is the required Python script with the required function:\u001b[0m\n\u001b[0m        ^\u001b[0m\n\u001b[0;31mSyntaxError\u001b[0m\u001b[0;31m:\u001b[0m invalid syntax\n"
          ]
        }
      ]
    },
    {
      "cell_type": "code",
      "source": [
        "# Runge-Kutta method\n",
        "t, s = myRK4(f, t_span, s0)\n",
        "plt.plot(t, s, \"r\", label=\"RK4\")\n",
        "# Python solver\n",
        "sol = solve_ivp(f, [0, 2*np.pi], [s0], t_eval=t)\n",
        "plt.plot(sol.t, sol.y[0], \"b-\", label=\"Python Solver\")\n",
        "plt.xlabel(\"t\")\n",
        "plt.ylabel(\"f(t)\")\n",
        "plt.grid()\n",
        "plt.legend(loc=2)\n",
        "plt.show()"
      ],
      "metadata": {
        "id": "O38hKj_We887",
        "outputId": "6e5335ad-1dd5-48cb-f7f8-8c3710abb1d6",
        "colab": {
          "base_uri": "https://localhost:8080/",
          "height": 235
        }
      },
      "execution_count": 6,
      "outputs": [
        {
          "output_type": "error",
          "ename": "NameError",
          "evalue": "ignored",
          "traceback": [
            "\u001b[0;31m---------------------------------------------------------------------------\u001b[0m",
            "\u001b[0;31mNameError\u001b[0m                                 Traceback (most recent call last)",
            "\u001b[0;32m<ipython-input-6-ed531d8429e2>\u001b[0m in \u001b[0;36m<cell line: 2>\u001b[0;34m()\u001b[0m\n\u001b[1;32m      1\u001b[0m \u001b[0;31m# Runge-Kutta method\u001b[0m\u001b[0;34m\u001b[0m\u001b[0;34m\u001b[0m\u001b[0m\n\u001b[0;32m----> 2\u001b[0;31m \u001b[0mt\u001b[0m\u001b[0;34m,\u001b[0m \u001b[0ms\u001b[0m \u001b[0;34m=\u001b[0m \u001b[0mmyRK4\u001b[0m\u001b[0;34m(\u001b[0m\u001b[0mf\u001b[0m\u001b[0;34m,\u001b[0m \u001b[0mt_span\u001b[0m\u001b[0;34m,\u001b[0m \u001b[0ms0\u001b[0m\u001b[0;34m)\u001b[0m\u001b[0;34m\u001b[0m\u001b[0;34m\u001b[0m\u001b[0m\n\u001b[0m\u001b[1;32m      3\u001b[0m \u001b[0mplt\u001b[0m\u001b[0;34m.\u001b[0m\u001b[0mplot\u001b[0m\u001b[0;34m(\u001b[0m\u001b[0mt\u001b[0m\u001b[0;34m,\u001b[0m \u001b[0ms\u001b[0m\u001b[0;34m,\u001b[0m \u001b[0;34m\"r\"\u001b[0m\u001b[0;34m,\u001b[0m \u001b[0mlabel\u001b[0m\u001b[0;34m=\u001b[0m\u001b[0;34m\"RK4\"\u001b[0m\u001b[0;34m)\u001b[0m\u001b[0;34m\u001b[0m\u001b[0;34m\u001b[0m\u001b[0m\n\u001b[1;32m      4\u001b[0m \u001b[0;31m# Python solver\u001b[0m\u001b[0;34m\u001b[0m\u001b[0;34m\u001b[0m\u001b[0m\n\u001b[1;32m      5\u001b[0m \u001b[0msol\u001b[0m \u001b[0;34m=\u001b[0m \u001b[0msolve_ivp\u001b[0m\u001b[0;34m(\u001b[0m\u001b[0mf\u001b[0m\u001b[0;34m,\u001b[0m \u001b[0;34m[\u001b[0m\u001b[0;36m0\u001b[0m\u001b[0;34m,\u001b[0m \u001b[0;36m2\u001b[0m\u001b[0;34m*\u001b[0m\u001b[0mnp\u001b[0m\u001b[0;34m.\u001b[0m\u001b[0mpi\u001b[0m\u001b[0;34m]\u001b[0m\u001b[0;34m,\u001b[0m \u001b[0;34m[\u001b[0m\u001b[0ms0\u001b[0m\u001b[0;34m]\u001b[0m\u001b[0;34m,\u001b[0m \u001b[0mt_eval\u001b[0m\u001b[0;34m=\u001b[0m\u001b[0mt\u001b[0m\u001b[0;34m)\u001b[0m\u001b[0;34m\u001b[0m\u001b[0;34m\u001b[0m\u001b[0m\n",
            "\u001b[0;31mNameError\u001b[0m: name 'myRK4' is not defined"
          ]
        }
      ]
    }
  ]
}