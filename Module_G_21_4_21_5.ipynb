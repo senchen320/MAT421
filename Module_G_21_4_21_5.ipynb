{
  "nbformat": 4,
  "nbformat_minor": 0,
  "metadata": {
    "colab": {
      "provenance": [],
      "authorship_tag": "ABX9TyOEH6u8NCcOlTlm+uu8FfIB",
      "include_colab_link": true
    },
    "kernelspec": {
      "name": "python3",
      "display_name": "Python 3"
    },
    "language_info": {
      "name": "python"
    }
  },
  "cells": [
    {
      "cell_type": "markdown",
      "metadata": {
        "id": "view-in-github",
        "colab_type": "text"
      },
      "source": [
        "<a href=\"https://colab.research.google.com/github/senchen320/MAT421/blob/main/Module_G_21_4_21_5.ipynb\" target=\"_parent\"><img src=\"https://colab.research.google.com/assets/colab-badge.svg\" alt=\"Open In Colab\"/></a>"
      ]
    },
    {
      "cell_type": "markdown",
      "source": [
        "Question 1"
      ],
      "metadata": {
        "id": "YsRu5OSlXKki"
      }
    },
    {
      "cell_type": "code",
      "execution_count": 1,
      "metadata": {
        "colab": {
          "base_uri": "https://localhost:8080/",
          "height": 130
        },
        "id": "lMB8TrXhW-Kr",
        "outputId": "e724010b-a06d-492b-b95f-b360df7127f1"
      },
      "outputs": [
        {
          "output_type": "error",
          "ename": "SyntaxError",
          "evalue": "ignored",
          "traceback": [
            "\u001b[0;36m  File \u001b[0;32m\"<ipython-input-1-9cea884e6125>\"\u001b[0;36m, line \u001b[0;32m1\u001b[0m\n\u001b[0;31m    The following is the required Python script with the required function:\u001b[0m\n\u001b[0m        ^\u001b[0m\n\u001b[0;31mSyntaxError\u001b[0m\u001b[0;31m:\u001b[0m invalid syntax\n"
          ]
        }
      ],
      "source": [
        "The following is the required Python script with the required function:\n",
        "# Importing numpy for array manipulation\n",
        "import numpy as np\n",
        "# Importing scipy for solving initial value problem\n",
        "from scipy.integrate import solve_ivp\n",
        "# Importing matplotlib for plotting curves\n",
        "import matplotlib.pyplot as plt\n",
        "# Importing functools's partial for creating the handle\n",
        "from functools import partial\n",
        "# Based on the given definition of mass-spring-damper\n",
        "# crafting the differential equation\n",
        "def my_msd(t, S, m, c, k):\n",
        "dS =\n",
        "np.dot(np.array([[0, 1], [-k / m, -c/ m]]), S)\n",
        "return dS"
      ]
    },
    {
      "cell_type": "code",
      "source": [
        "# Test 1\n",
        "dS = my_msd(0, [1, -1], 10, 1, 100)\n",
        "print(dS)"
      ],
      "metadata": {
        "colab": {
          "base_uri": "https://localhost:8080/",
          "height": 200
        },
        "id": "ihuirIwdXV-L",
        "outputId": "bea8f884-7ac4-4765-d70a-b021805f54eb"
      },
      "execution_count": 2,
      "outputs": [
        {
          "output_type": "error",
          "ename": "NameError",
          "evalue": "ignored",
          "traceback": [
            "\u001b[0;31m---------------------------------------------------------------------------\u001b[0m",
            "\u001b[0;31mNameError\u001b[0m                                 Traceback (most recent call last)",
            "\u001b[0;32m<ipython-input-2-9c3b042a59c3>\u001b[0m in \u001b[0;36m<module>\u001b[0;34m\u001b[0m\n\u001b[1;32m      1\u001b[0m \u001b[0;31m# Test 1\u001b[0m\u001b[0;34m\u001b[0m\u001b[0;34m\u001b[0m\u001b[0m\n\u001b[0;32m----> 2\u001b[0;31m \u001b[0mdS\u001b[0m \u001b[0;34m=\u001b[0m \u001b[0mmy_msd\u001b[0m\u001b[0;34m(\u001b[0m\u001b[0;36m0\u001b[0m\u001b[0;34m,\u001b[0m \u001b[0;34m[\u001b[0m\u001b[0;36m1\u001b[0m\u001b[0;34m,\u001b[0m \u001b[0;34m-\u001b[0m\u001b[0;36m1\u001b[0m\u001b[0;34m]\u001b[0m\u001b[0;34m,\u001b[0m \u001b[0;36m10\u001b[0m\u001b[0;34m,\u001b[0m \u001b[0;36m1\u001b[0m\u001b[0;34m,\u001b[0m \u001b[0;36m100\u001b[0m\u001b[0;34m)\u001b[0m\u001b[0;34m\u001b[0m\u001b[0;34m\u001b[0m\u001b[0m\n\u001b[0m\u001b[1;32m      3\u001b[0m \u001b[0mprint\u001b[0m\u001b[0;34m(\u001b[0m\u001b[0mdS\u001b[0m\u001b[0;34m)\u001b[0m\u001b[0;34m\u001b[0m\u001b[0;34m\u001b[0m\u001b[0m\n",
            "\u001b[0;31mNameError\u001b[0m: name 'my_msd' is not defined"
          ]
        }
      ]
    },
    {
      "cell_type": "code",
      "source": [
        "# Test 2\n",
        "m = 1\n",
        "k = 10\n",
        "f = partial(my_msd, m=m, c=0, k=k)\n",
        "t_e = np.arange(0, 20, 0.1)\n",
        "sol_1 = solve_ivp(f, [0, 20], [1, 0], t_eval=t_e)\n",
        "f = partial(my_msd, m=m, c=1, k=k)\n",
        "sol_2 = solve_ivp(f, [0, 20], [1, 0], t_eval=t_e)\n",
        "f = partial(my_msd, m=m, c=10, k=k)\n",
        "sol_3 = solve_ivp(f, [0, 20], [1, 0], t_eval=t_e)\n",
        "plt.figure(figsize=(10, 8))\n",
        "plt.plot(sol_1.t, sol_1.y[0])\n",
        "plt.plot(sol_2.t, sol_2.y[0])\n",
        "plt.plot(sol_3.t, sol_3.y[0])\n",
        "plt.title(\"Numerical Solution of MSD System with Varying Dampling\")\n",
        "plt.xlabel(\"time\")\n",
        "plt.ylabel(\"displacement\")\n",
        "plt.legend([\"no dampling\", \"c=1\", \">critically damped\"], loc=1)\n",
        "plt.show()"
      ],
      "metadata": {
        "colab": {
          "base_uri": "https://localhost:8080/",
          "height": 235
        },
        "id": "ixsRhmlmXabK",
        "outputId": "b0e9a680-e78a-4632-fb62-784b36b26133"
      },
      "execution_count": 3,
      "outputs": [
        {
          "output_type": "error",
          "ename": "NameError",
          "evalue": "ignored",
          "traceback": [
            "\u001b[0;31m---------------------------------------------------------------------------\u001b[0m",
            "\u001b[0;31mNameError\u001b[0m                                 Traceback (most recent call last)",
            "\u001b[0;32m<ipython-input-3-bb978b53a527>\u001b[0m in \u001b[0;36m<module>\u001b[0;34m\u001b[0m\n\u001b[1;32m      2\u001b[0m \u001b[0mm\u001b[0m \u001b[0;34m=\u001b[0m \u001b[0;36m1\u001b[0m\u001b[0;34m\u001b[0m\u001b[0;34m\u001b[0m\u001b[0m\n\u001b[1;32m      3\u001b[0m \u001b[0mk\u001b[0m \u001b[0;34m=\u001b[0m \u001b[0;36m10\u001b[0m\u001b[0;34m\u001b[0m\u001b[0;34m\u001b[0m\u001b[0m\n\u001b[0;32m----> 4\u001b[0;31m \u001b[0mf\u001b[0m \u001b[0;34m=\u001b[0m \u001b[0mpartial\u001b[0m\u001b[0;34m(\u001b[0m\u001b[0mmy_msd\u001b[0m\u001b[0;34m,\u001b[0m \u001b[0mm\u001b[0m\u001b[0;34m=\u001b[0m\u001b[0mm\u001b[0m\u001b[0;34m,\u001b[0m \u001b[0mc\u001b[0m\u001b[0;34m=\u001b[0m\u001b[0;36m0\u001b[0m\u001b[0;34m,\u001b[0m \u001b[0mk\u001b[0m\u001b[0;34m=\u001b[0m\u001b[0mk\u001b[0m\u001b[0;34m)\u001b[0m\u001b[0;34m\u001b[0m\u001b[0;34m\u001b[0m\u001b[0m\n\u001b[0m\u001b[1;32m      5\u001b[0m \u001b[0mt_e\u001b[0m \u001b[0;34m=\u001b[0m \u001b[0mnp\u001b[0m\u001b[0;34m.\u001b[0m\u001b[0marange\u001b[0m\u001b[0;34m(\u001b[0m\u001b[0;36m0\u001b[0m\u001b[0;34m,\u001b[0m \u001b[0;36m20\u001b[0m\u001b[0;34m,\u001b[0m \u001b[0;36m0.1\u001b[0m\u001b[0;34m)\u001b[0m\u001b[0;34m\u001b[0m\u001b[0;34m\u001b[0m\u001b[0m\n\u001b[1;32m      6\u001b[0m \u001b[0msol_1\u001b[0m \u001b[0;34m=\u001b[0m \u001b[0msolve_ivp\u001b[0m\u001b[0;34m(\u001b[0m\u001b[0mf\u001b[0m\u001b[0;34m,\u001b[0m \u001b[0;34m[\u001b[0m\u001b[0;36m0\u001b[0m\u001b[0;34m,\u001b[0m \u001b[0;36m20\u001b[0m\u001b[0;34m]\u001b[0m\u001b[0;34m,\u001b[0m \u001b[0;34m[\u001b[0m\u001b[0;36m1\u001b[0m\u001b[0;34m,\u001b[0m \u001b[0;36m0\u001b[0m\u001b[0;34m]\u001b[0m\u001b[0;34m,\u001b[0m \u001b[0mt_eval\u001b[0m\u001b[0;34m=\u001b[0m\u001b[0mt_e\u001b[0m\u001b[0;34m)\u001b[0m\u001b[0;34m\u001b[0m\u001b[0;34m\u001b[0m\u001b[0m\n",
            "\u001b[0;31mNameError\u001b[0m: name 'partial' is not defined"
          ]
        }
      ]
    },
    {
      "cell_type": "markdown",
      "source": [
        "Question 2"
      ],
      "metadata": {
        "id": "J1G0RADtXevu"
      }
    },
    {
      "cell_type": "code",
      "source": [
        "The following is the required Python script with the required function:\n",
        "# Importing numpy for array manipulation\n",
        "import numpy as np\n",
        "# Function to integrate the differential equation ds\n",
        "# using forward euler method\n",
        "def my_forward_euler(ds, t_span, s0):\n",
        "it (len(1_span) < 2):\n",
        "raise BaseException(\"Error: span must be of length be more than 1!\")\n",
        "# Calculating steps\n",
        "h = (t_span[-1] - t_span[0]) / (len(t_span) - 1)\n",
        "S = np.zeros(len(t_span)+1,1))\n",
        "s[0] = s0\n",
        "for i in range(0, len(t_span)):\n",
        "s[i+1] = s[i) + h' ds(t_span[i}, s[i])\n",
        "t =t_span\n",
        "S = s.transpose()[0]\n",
        "return [t, s]\n",
        "t_span = np.linspace(0, 1, 10)\n",
        "s0 = 1\n",
        "# Define parameters\n",
        "f = lambda t, s: t*np.exp(-s)\n",
        "t_eul, s_eul = my_forward_euler(f, t_span, s0)\n",
        "print(t_eul)\n",
        "print(s_eul)"
      ],
      "metadata": {
        "colab": {
          "base_uri": "https://localhost:8080/",
          "height": 130
        },
        "id": "hjZ3y8wrXgX2",
        "outputId": "77cfc9ba-9ca2-48f9-c33e-8fead51647bf"
      },
      "execution_count": 4,
      "outputs": [
        {
          "output_type": "error",
          "ename": "SyntaxError",
          "evalue": "ignored",
          "traceback": [
            "\u001b[0;36m  File \u001b[0;32m\"<ipython-input-4-4a8fe3a52b8b>\"\u001b[0;36m, line \u001b[0;32m1\u001b[0m\n\u001b[0;31m    The following is the required Python script with the required function:\u001b[0m\n\u001b[0m        ^\u001b[0m\n\u001b[0;31mSyntaxError\u001b[0m\u001b[0;31m:\u001b[0m invalid syntax\n"
          ]
        }
      ]
    },
    {
      "cell_type": "markdown",
      "source": [
        "Question 3"
      ],
      "metadata": {
        "id": "6KHEOAbGXm-S"
      }
    },
    {
      "cell_type": "code",
      "source": [
        "The following is the required Python script with the required function:\n",
        "import numpy as np\n",
        "import matplotlib.pyplot as plt\n",
        "from scipy.integrate import solve_ivp\n",
        "# Function to integrate differential equation using\n",
        "# fourth order Runge-Kutta method\n",
        "def myRK4(ds, t_span, s0):\n",
        "if (len(t_span) < 2):\n",
        "raise BaseException(\"Error: span must be of length be more than 1!\")\n",
        "# Calculating steps\n",
        "h = (t_span[-1] -t_span[0]) / (len(t_span) -1)\n",
        "s = np.zeros((len(t_span),1))\n",
        "s[0] = s0\n",
        "for i in range(0, len(t_span)-1):\n",
        "k1 = ds( t_span[i], s[i] );\n",
        "# change at beginning\n",
        "# of the interval.\n",
        "k2 = ds( t_span[i] + 0.5 * h, s[i] + 0.5 * h * k1 );\n",
        "# interval) at midpoint of the interval.\n",
        "k3 = ds( t_span[i] + 0.5 * h, s[i] + 0.5 * h * k2 );\n",
        "# change of (change of (change at beginning of\n",
        "# the interval) at midpoint of the interval) at midpoint #of the interval.\n",
        "k4 = ds (t_span[i] + h, s[i] + h * k3);\n",
        "# change of (change of (change of (change\n",
        "at beginning of the interval) at midpoint of the interval) at midpoint of the interval) at the end of\n",
        "the interval.\n",
        "s[i + 1] = s[i] + h/6 * (k1 + 2 * k2 + 2 * k3 + k4);\n",
        "t =t_span\n",
        "s = s.transpose()[0]\n",
        "return [t, s]\n",
        "f = lambda t, s: np.sin(np.exp(s))/(t+1)\n",
        "t_span = np.linspace(0, 2*np.pi, 10)\n",
        "s0 = 0\n",
        "plt.figure(figsize = (10, 8))\n",
        "# Runge-Kutta method\n",
        "t, s = myRK4(f, t_span, s0)\n",
        "plt.plot(t, s, \"r\", label=\"RK4\")"
      ],
      "metadata": {
        "colab": {
          "base_uri": "https://localhost:8080/",
          "height": 130
        },
        "id": "h3sq7-vvXoja",
        "outputId": "eaa64573-472a-4c59-b48e-fc997dfa8194"
      },
      "execution_count": 5,
      "outputs": [
        {
          "output_type": "error",
          "ename": "SyntaxError",
          "evalue": "ignored",
          "traceback": [
            "\u001b[0;36m  File \u001b[0;32m\"<ipython-input-5-efccafd770ce>\"\u001b[0;36m, line \u001b[0;32m1\u001b[0m\n\u001b[0;31m    The following is the required Python script with the required function:\u001b[0m\n\u001b[0m        ^\u001b[0m\n\u001b[0;31mSyntaxError\u001b[0m\u001b[0;31m:\u001b[0m invalid syntax\n"
          ]
        }
      ]
    },
    {
      "cell_type": "code",
      "source": [
        "# Python solver\n",
        "sol = solve_ivp(f, [0, 2*np.pi], [s0], t_eval=t)\n",
        "plt.plot(sol.t, sol.y[0], \"b-\", label=\"Python Solver\")\n",
        "plt.xlabel(\"t\")\n",
        "plt.ylabel(\"f(t)\")\n",
        "plt.grid()\n",
        "plt.legend(loc=2)\n",
        "plt.show()"
      ],
      "metadata": {
        "id": "n6H1kaWzX1ST",
        "outputId": "73398fd4-9999-42a9-f6a2-d47d1f5684a3",
        "colab": {
          "base_uri": "https://localhost:8080/",
          "height": 235
        }
      },
      "execution_count": 6,
      "outputs": [
        {
          "output_type": "error",
          "ename": "NameError",
          "evalue": "ignored",
          "traceback": [
            "\u001b[0;31m---------------------------------------------------------------------------\u001b[0m",
            "\u001b[0;31mNameError\u001b[0m                                 Traceback (most recent call last)",
            "\u001b[0;32m<ipython-input-6-8a6e1afd1ef9>\u001b[0m in \u001b[0;36m<module>\u001b[0;34m\u001b[0m\n\u001b[1;32m      1\u001b[0m \u001b[0;31m# Python solver\u001b[0m\u001b[0;34m\u001b[0m\u001b[0;34m\u001b[0m\u001b[0m\n\u001b[0;32m----> 2\u001b[0;31m \u001b[0msol\u001b[0m \u001b[0;34m=\u001b[0m \u001b[0msolve_ivp\u001b[0m\u001b[0;34m(\u001b[0m\u001b[0mf\u001b[0m\u001b[0;34m,\u001b[0m \u001b[0;34m[\u001b[0m\u001b[0;36m0\u001b[0m\u001b[0;34m,\u001b[0m \u001b[0;36m2\u001b[0m\u001b[0;34m*\u001b[0m\u001b[0mnp\u001b[0m\u001b[0;34m.\u001b[0m\u001b[0mpi\u001b[0m\u001b[0;34m]\u001b[0m\u001b[0;34m,\u001b[0m \u001b[0;34m[\u001b[0m\u001b[0ms0\u001b[0m\u001b[0;34m]\u001b[0m\u001b[0;34m,\u001b[0m \u001b[0mt_eval\u001b[0m\u001b[0;34m=\u001b[0m\u001b[0mt\u001b[0m\u001b[0;34m)\u001b[0m\u001b[0;34m\u001b[0m\u001b[0;34m\u001b[0m\u001b[0m\n\u001b[0m\u001b[1;32m      3\u001b[0m \u001b[0mplt\u001b[0m\u001b[0;34m.\u001b[0m\u001b[0mplot\u001b[0m\u001b[0;34m(\u001b[0m\u001b[0msol\u001b[0m\u001b[0;34m.\u001b[0m\u001b[0mt\u001b[0m\u001b[0;34m,\u001b[0m \u001b[0msol\u001b[0m\u001b[0;34m.\u001b[0m\u001b[0my\u001b[0m\u001b[0;34m[\u001b[0m\u001b[0;36m0\u001b[0m\u001b[0;34m]\u001b[0m\u001b[0;34m,\u001b[0m \u001b[0;34m\"b-\"\u001b[0m\u001b[0;34m,\u001b[0m \u001b[0mlabel\u001b[0m\u001b[0;34m=\u001b[0m\u001b[0;34m\"Python Solver\"\u001b[0m\u001b[0;34m)\u001b[0m\u001b[0;34m\u001b[0m\u001b[0;34m\u001b[0m\u001b[0m\n\u001b[1;32m      4\u001b[0m \u001b[0mplt\u001b[0m\u001b[0;34m.\u001b[0m\u001b[0mxlabel\u001b[0m\u001b[0;34m(\u001b[0m\u001b[0;34m\"t\"\u001b[0m\u001b[0;34m)\u001b[0m\u001b[0;34m\u001b[0m\u001b[0;34m\u001b[0m\u001b[0m\n\u001b[1;32m      5\u001b[0m \u001b[0mplt\u001b[0m\u001b[0;34m.\u001b[0m\u001b[0mylabel\u001b[0m\u001b[0;34m(\u001b[0m\u001b[0;34m\"f(t)\"\u001b[0m\u001b[0;34m)\u001b[0m\u001b[0;34m\u001b[0m\u001b[0;34m\u001b[0m\u001b[0m\n",
            "\u001b[0;31mNameError\u001b[0m: name 'solve_ivp' is not defined"
          ]
        }
      ]
    }
  ]
}