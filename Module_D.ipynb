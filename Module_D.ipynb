{
  "nbformat": 4,
  "nbformat_minor": 0,
  "metadata": {
    "colab": {
      "provenance": [],
      "authorship_tag": "ABX9TyMVX1ZSQ/hlrHhgi6VtFql7",
      "include_colab_link": true
    },
    "kernelspec": {
      "name": "python3",
      "display_name": "Python 3"
    },
    "language_info": {
      "name": "python"
    }
  },
  "cells": [
    {
      "cell_type": "markdown",
      "metadata": {
        "id": "view-in-github",
        "colab_type": "text"
      },
      "source": [
        "<a href=\"https://colab.research.google.com/github/senchen320/MAT421/blob/main/Module_D.ipynb\" target=\"_parent\"><img src=\"https://colab.research.google.com/assets/colab-badge.svg\" alt=\"Open In Colab\"/></a>"
      ]
    },
    {
      "cell_type": "code",
      "execution_count": 1,
      "metadata": {
        "colab": {
          "base_uri": "https://localhost:8080/",
          "height": 130
        },
        "id": "wMKwsepsLyP7",
        "outputId": "1ef394c0-b25c-4544-9b77-a6982dae952b"
      },
      "outputs": [
        {
          "output_type": "error",
          "ename": "IndentationError",
          "evalue": "ignored",
          "traceback": [
            "\u001b[0;36m  File \u001b[0;32m\"<ipython-input-1-7958d6396c22>\"\u001b[0;36m, line \u001b[0;32m75\u001b[0m\n\u001b[0;31m    if l%400==0 or l%4==0 and l%100!=0:\u001b[0m\n\u001b[0m    ^\u001b[0m\n\u001b[0;31mIndentationError\u001b[0m\u001b[0;31m:\u001b[0m expected an indented block\n"
          ]
        }
      ],
      "source": [
        "#question 1\n",
        "####################################\n",
        "#print the message using print function\n",
        "print(\"I love Pyhton\")\n",
        "\n",
        "#question 2\n",
        "####################################\n",
        "#initialize the variables\n",
        "base = 10\n",
        "height = 12\n",
        "#calculate the area\n",
        "area = 0.5 * base * height\n",
        "#print the result \n",
        "print(\"Area =\",area)\n",
        "\n",
        "#question 3\n",
        "####################################\n",
        "#This program compules the cylinder#\n",
        "####################################\n",
        "#import math module for pi\n",
        "import math\n",
        "#initalizing variables\n",
        "r,h =5,3\n",
        "#compute surface area and volume\n",
        "s_area = 2*math.pi*r*(r+h)\n",
        "vol =math.pi*r*r*h\n",
        "#print the results\n",
        "print(\"Surfuce area :\",s_area)\n",
        "print(\"Volume: \",vol)\n",
        "\n",
        "#question 4\n",
        "###################################\n",
        "#This program computes the slope between the points.#\n",
        "###################################\n",
        "#initialize coordinates\n",
        "x1,y1 = 3,4\n",
        "x2,y2 = 5,9\n",
        "#calculate slope\n",
        "m = (y2 - y1)/(x2 - x1)\n",
        "#display result\n",
        "print(\"Slope =\",m)\n",
        "\n",
        "#question 5\n",
        "####################################\n",
        "#This program computes the slope between the points.#\n",
        "####################################\n",
        "#initialize coordinates\n",
        "x1 ,y1 = 3,4\n",
        "x2 ,y2 = 5,9\n",
        "#calculate distance\n",
        "d = math.sqrt(((x2-x1)*(x2-x1))+((y2-y1)*(y2-y1)))\n",
        "#display result\n",
        "print(\"Distance =\",d)\n",
        "\n",
        "#question 6\n",
        "####################################\n",
        "#This program computes the faction of a number.#\n",
        "####################################\n",
        "#import math module for faction function\n",
        "import math\n",
        "#print the result\n",
        "print(\"Factorial of six is\",math.factiorial(6))\n",
        "\n",
        "#question 7\n",
        "####################################\n",
        "#This program computes the leap years between two years.#\n",
        "####################################\n",
        "#initalize variables\n",
        "l,r = 1500,2010\n",
        "#variable to store leap year count\n",
        "count = 0\n",
        "#iterate from l to r\n",
        "while l<=r:\n",
        "#condition to check if l is a leap year\n",
        "if l%400==0 or l%4==0 and l%100!=0:\n",
        "#increment l by 1\n",
        "l+=1\n",
        "#display count\n",
        "print(\"Number of leap years between 1500 and 2010:\",count)\n",
        "\n",
        "#question 8\n",
        "####################################\n",
        "#Calculate value of sinh using given exponential formula#\n",
        "####################################\n",
        "import math\n",
        "#required for sinh\n",
        "#function to estimate the value of sinh using exponentials\n",
        "def sinh_estimate(x):\n",
        "sin_hyperbole =0\n",
        "#calcualted value\n",
        "e=2.7182\n",
        "#constrant for exponential\n",
        "sin_hyperbole= ((e**x)-(e**(-x))/2\n",
        "#use formula\n",
        "return sin_hyperbole\n",
        "print(\"Sinh value for x=2 using formula:\",sinh_estimate (2))\n",
        "print(\"Sinh value fot x=2 using python:\",math.sinh(2))"
      ]
    }
  ]
}