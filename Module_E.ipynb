{
  "nbformat": 4,
  "nbformat_minor": 0,
  "metadata": {
    "colab": {
      "provenance": [],
      "authorship_tag": "ABX9TyNhDHzRZMnTfFEW0sy4/Fb5",
      "include_colab_link": true
    },
    "kernelspec": {
      "name": "python3",
      "display_name": "Python 3"
    },
    "language_info": {
      "name": "python"
    }
  },
  "cells": [
    {
      "cell_type": "markdown",
      "metadata": {
        "id": "view-in-github",
        "colab_type": "text"
      },
      "source": [
        "<a href=\"https://colab.research.google.com/github/senchen320/MAT421/blob/main/Module_E.ipynb\" target=\"_parent\"><img src=\"https://colab.research.google.com/assets/colab-badge.svg\" alt=\"Open In Colab\"/></a>"
      ]
    },
    {
      "cell_type": "code",
      "execution_count": null,
      "metadata": {
        "id": "DuInLf_EVMzK"
      },
      "outputs": [],
      "source": [
        "#question 1 \n",
        "##################################\n",
        "# Fuction to compute hyporbolic sine#\n",
        "##################################\n",
        "def my_sinh(x):\n",
        "sin_hyperbole =() #initllaize\n",
        "e=2.7182#conster for exponential\n",
        "sin_hyperbole=((e**x)-(e**(-x)))/2#use formula\n",
        "rounded= round(sin_hyperbole,4)#round it off\n",
        "return rounded\n",
        "\n",
        "#question 2\n",
        "###################################\n",
        "#Fuction to produce nXn arry with alternate 1 and 0#\n",
        "###################################\n",
        "import numpy#required for zeros\n",
        "def my_checker_board(n):\n",
        "x= numpy.zeros((n,n),dtype=int)#intialize all to 0\n",
        "x[1::2, 1::2]=1#make odd rows,odd column as 1\n",
        "x[::2, ::2]=1#make even rows, even column as 1\n",
        "return x\n",
        "\n",
        "#question 3\n",
        "####################################\n",
        "#Function to calculate area of trangle#\n",
        "####################################\n",
        "def my_triagle(b,h):\n",
        "a=0.5b*h#area of triangle formula\n",
        "return a\n",
        "\n",
        "#question 4\n",
        "#####################################\n",
        "#Function to split a matrix column-wise#\n",
        "#####################################\n",
        "import numpy #requrted for array_spit functi9on\n",
        "def my_split_matrix(m):\n",
        "#split the array in two parts, columnwise\n",
        "mist-numpy.array_split(m,2,axis =1)\n",
        "return mlist\n",
        "\n",
        "#question 5\n",
        "######################################\n",
        "#Function to calculate volume and surface area of cylinder#\n",
        "######################################\n",
        "import math#requirred for pi attribute\n",
        "def my_cylinder(r,h):\n",
        "v= round(math.pi*r*r*h,4)#calculate volume\n",
        "s= round(2*math.pi*r*(r+h),4)#calcute volume\n",
        "lis=[s,v]#put both in list\n",
        "return lis\n",
        "\n",
        "#question 6\n",
        "#######################################\n",
        "#Function to count odd numbers in single dimensional array#\n",
        "#######################################\n",
        "def my_n_odd(a):\n",
        "odds=0#initialize\n",
        "for i in range(len(a)):# ;oop the array elements\n",
        "if a[i]%2:#check if it odd\n",
        "odds+=1#increment counter\n",
        "return odds#return count of odd elements\n",
        "\n",
        "#question 7\n",
        "#########################################\n",
        "#Fuction to create 2-dimonsional array containing only 2s#\n",
        "#########################################\n",
        "def my_twos(m,n):\n",
        "arr = [[2 for i in range(n)] for j in range(m)]\n",
        "return arr"
      ]
    }
  ]
}